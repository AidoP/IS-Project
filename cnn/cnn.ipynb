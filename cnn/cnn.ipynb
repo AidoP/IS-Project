{
 "nbformat": 4,
 "nbformat_minor": 2,
 "metadata": {
  "language_info": {
   "name": "python",
   "codemirror_mode": {
    "name": "ipython",
    "version": 3
   },
   "version": "3.8.6-final"
  },
  "orig_nbformat": 2,
  "file_extension": ".py",
  "mimetype": "text/x-python",
  "name": "python",
  "npconvert_exporter": "python",
  "pygments_lexer": "ipython3",
  "version": 3,
  "kernelspec": {
   "name": "Python 3.8.6 64-bit",
   "display_name": "Python 3.8.6 64-bit",
   "metadata": {
    "interpreter": {
     "hash": "255e8562cb7d51ff2d4f13faf9db7f5ecc553585d93da45825d5a9294c7a766b"
    }
   }
  }
 },
 "cells": [
  {
   "cell_type": "markdown",
   "metadata": {},
   "source": [
    "# Imports & Definitions\n",
    "```\n",
    "$ pip freeze\n",
    "tensorflow\n",
    "scikit-image\n",
    "scikit-learn\n",
    "```"
   ]
  },
  {
   "cell_type": "code",
   "execution_count": null,
   "metadata": {},
   "outputs": [],
   "source": [
    "        import tensorflow\n",
    "        import numpy\n",
    "        import skimage.io as scikit_io\n",
    "        import skimage.transform as scikit_transform\n",
    "        import matplotlib.pyplot as matplot_plot\n",
    "        import matplotlib.image as matplot_image\n",
    "        import sklearn.model_selection as scikit_model_selection\n",
    "        import os\n",
    "        import random\n",
    "\n",
    "        LEARNING_RATE = 0.0001\n",
    "        EPOCHS = 100\n",
    "        BATCH_SIZE = 10\n",
    "\n",
    "        INPUT_SIZE = 128"
   ]
  },
  {
   "cell_type": "markdown",
   "metadata": {},
   "source": [
    "# Image Loading"
   ]
  },
  {
   "cell_type": "code",
   "execution_count": null,
   "metadata": {},
   "outputs": [],
   "source": [
    "        def load_image(path):\n",
    "            image = scikit_io.imread(path)\n",
    "            return scikit_transform.resize(image, (INPUT_SIZE, INPUT_SIZE), anti_aliasing = True)\n",
    "\n",
    "        def show_image(image):\n",
    "            matplot_plot.imshow(image)\n",
    "            matplot_plot.axis('off')"
   ]
  },
  {
   "cell_type": "code",
   "execution_count": null,
   "metadata": {},
   "outputs": [],
   "source": [
    "datasource_dir = \"../image-puller/images/\"\n",
    "dataset_dir = \"images/\"\n",
    "labels = [\"men\", \"women\"]\n",
    "\n",
    "random.seed(1)\n",
    "test_train_ratio = 0.2\n",
    "\n",
    "# Copy images from source into split directories of train / test for the given label\n",
    "def prepare_directory(source, label):\n",
    "    for image_path in os.listdir(source):\n",
    "        if (image_path.endswith(\".png\")):\n",
    "            image_set = \"test\" if random.random() < test_train_ratio else \"train\"\n",
    "            destination = os.path.join(dataset_dir, image_set, label, image_path)\n",
    "            scikit_io.imsave(destination, load_image(os.path.join(source, image_path)))\n",
    "def prepare(label):\n",
    "    prepare_directory(os.path.join(datasource_dir, label), label)\n",
    "            "
   ]
  },
  {
   "source": [
    "# Prepare Dataset"
   ],
   "cell_type": "markdown",
   "metadata": {}
  },
  {
   "cell_type": "code",
   "execution_count": null,
   "metadata": {},
   "outputs": [],
   "source": [
    "# Make the directories\n",
    "for split_dir in split_dirs:\n",
    "    for label in labels:\n",
    "        os.makedirs(dataset_dir + split_dir + label + \"/\", exist_ok = True)\n",
    "\n",
    "# Copy the images over\n",
    "prepare(\"men\")\n",
    "prepare(\"women\")\n"
   ]
  },
  {
   "cell_type": "code",
   "execution_count": null,
   "metadata": {},
   "outputs": [],
   "source": []
  },
  {
   "cell_type": "code",
   "execution_count": null,
   "metadata": {},
   "outputs": [],
   "source": [
    "def create_model():\n",
    "    input_layer = tensorflow.reshape(images[0], shape=[-1, INPUT_SIZE, INPUT_SIZE, 3])\n",
    "    convolution = []\n",
    "    convolution.append(\n",
    "        tensorflow.keras.layers.Conv2D(8, (6, 6), 1, )\n",
    "    ) \n"
   ]
  },
  {
   "cell_type": "code",
   "execution_count": null,
   "metadata": {},
   "outputs": [],
   "source": [
    "create_model()"
   ]
  },
  {
   "cell_type": "code",
   "execution_count": null,
   "metadata": {},
   "outputs": [],
   "source": []
  }
 ]
}